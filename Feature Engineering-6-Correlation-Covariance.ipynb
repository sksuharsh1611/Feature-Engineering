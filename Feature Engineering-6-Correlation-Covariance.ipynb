{
 "cells": [
  {
   "cell_type": "code",
   "execution_count": null,
   "id": "3ac544b0-b27a-4e91-92af-4a5705c8681e",
   "metadata": {},
   "outputs": [],
   "source": [
    "Q1. Pearson correlation coefficient is a measure of the linear relationship between two variables. Suppose\n",
    "you have collected data on the amount of time students spend studying for an exam and their final exam\n",
    "scores. Calculate the Pearson correlation coefficient between these two variables and interpret the result.\n",
    "\n",
    "Q2. Spearman's rank correlation is a measure of the monotonic relationship between two variables.\n",
    "Suppose you have collected data on the amount of sleep individuals get each night and their overall job\n",
    "satisfaction level on a scale of 1 to 10. Calculate the Spearman's rank correlation between these two\n",
    "variables and interpret the result.\n",
    "\n",
    "Q3. Suppose you are conducting a study to examine the relationship between the number of hours of\n",
    "exercise per week and body mass index (BMI) in a sample of adults. You collected data on both variables\n",
    "for 50 participants. Calculate the Pearson correlation coefficient and the Spearman's rank correlation\n",
    "between these two variables and compare the results.\n",
    "\n",
    "Q4. A researcher is interested in examining the relationship between the number of hours individuals\n",
    "spend watching television per day and their level of physical activity. The researcher collected data on\n",
    "both variables from a sample of 50 participants. Calculate the Pearson correlation coefficient between\n",
    "these two variables.\n",
    "\n",
    "Q5. A survey was conducted to examine the relationship between age and preference for a particular\n",
    "brand of soft drink. The survey results are shown below:\n",
    "\n",
    "Age(Years)   Soft drink Preference\n",
    "    25            Coke\n",
    "    42            Pepsi\n",
    "    37         Mountain dew\n",
    "    19            Coke\n",
    "    31            Pepsi\n",
    "    28            Coke\n",
    "\n",
    "Q6. A company is interested in examining the relationship between the number of sales calls made per day\n",
    "and the number of sales made per week. The company collected data on both variables from a sample of\n",
    "30 sales representatives. Calculate the Pearson correlation coefficient between these two variables.\n"
   ]
  },
  {
   "cell_type": "code",
   "execution_count": 6,
   "id": "3a2347c1-601a-4143-870d-e4e38b26a318",
   "metadata": {},
   "outputs": [
    {
     "name": "stdout",
     "output_type": "stream",
     "text": [
      "Pearson correlation coefficient: 0.9999999999999999\n"
     ]
    }
   ],
   "source": [
    "# Sol 1:\n",
    "'''\n",
    "Let's assume we have a dataset containing the amount of time (in hours) that students spend studying and their corresponding final exam scores (out of 100). \n",
    "To calculate the Pearson correlation coefficient between these two variables, we can use the pearsonr() function from the scipy.stats module in Python.\n",
    "'''\n",
    "import numpy as np\n",
    "from scipy.stats import pearsonr\n",
    "\n",
    "# Example data\n",
    "study_time = [5, 10, 15, 20, 25, 30]\n",
    "exam_scores = [65, 70, 75, 80, 85, 90]\n",
    "\n",
    "# Calculate Pearson correlation coefficient\n",
    "corr_coef, p_value = pearsonr(study_time, exam_scores)\n",
    "\n",
    "print(\"Pearson correlation coefficient:\", corr_coef)\n",
    "\n",
    "'''\n",
    "Interpretation:\n",
    "The Pearson correlation coefficient ranges from -1 to 1,\n",
    "\n",
    "where,\n",
    "-1 indicates a perfect negative linear relationship,\n",
    "0 indicates no linear relationship, \n",
    "1 indicates a perfect positive linear relationship. \n",
    "'''"
   ]
  },
  {
   "cell_type": "code",
   "execution_count": 7,
   "id": "72cb7e20-7fd1-49df-bd2b-28d926cbf817",
   "metadata": {},
   "outputs": [
    {
     "name": "stdout",
     "output_type": "stream",
     "text": [
      "Spearman's rank correlation coefficient: 0.81\n",
      "P-value: 0.00\n"
     ]
    }
   ],
   "source": [
    "# Sol 2:\n",
    "'''\n",
    "Spearman's rank correlation is used to measure the strength and direction of a monotonic relationship between two variables, which means that the relationship between the variables is not necessarily linear, but it could be consistently increasing or decreasing.\n",
    "\n",
    "To calculate the Spearman's rank correlation between the amount of sleep individuals get each night and their overall job satisfaction level, \n",
    "\n",
    "we first need to rank the values of each variable from lowest to highest. \n",
    "Then, we assign each value a rank, starting from 1 for the lowest value and continuing in ascending order. \n",
    "If there are ties, the ranks are averaged.\n",
    "'''\n",
    "\n",
    "import scipy.stats as stats\n",
    "\n",
    "# amount of sleep individuals get\n",
    "sleep = [6, 7, 8, 7, 6, 8, 7, 5, 6, 8]\n",
    "\n",
    "# job satisfaction level on a scale of 1 to 10\n",
    "job_satisfaction = [4, 7, 6, 8, 3, 9, 5, 2, 1, 7]\n",
    "\n",
    "# calculate Spearman's rank correlation\n",
    "rho, pval = stats.spearmanr(sleep, job_satisfaction)\n",
    "\n",
    "print(f\"Spearman's rank correlation coefficient: {rho:.2f}\")\n",
    "print(f\"P-value: {pval:.2f}\")\n"
   ]
  },
  {
   "cell_type": "code",
   "execution_count": 16,
   "id": "819d5cfb-4ffc-4c9e-820f-d991dffe3981",
   "metadata": {},
   "outputs": [],
   "source": [
    "# Sol 3:\n",
    "'''\n",
    "Assuming we have the data for both variables for 50 participants, we can calculate both the Pearson correlation coefficient and the Spearman's rank correlation coefficient using Python.\n",
    "'''\n",
    "import csv\n",
    "\n",
    "# BMI data\n",
    "BMI = [22.5, 26.7, 31.2, 24.3, 29.1, 27.8, 23.6, 30.2, 25.5, 26.9, 28.1, 23.9, 31.5, \n",
    "       30.8, 26.3, 28.7, 24.6, 29.4, 27.5, 30.1, 25.8, 23.1, 28.4, 31.9, 27.6, 24.5, \n",
    "       29.7, 26.2, 28.3, 24.1, 30.6, 25.9, 27.4, 29.2, 24.8, 31.1, 26.4, 28.9, 30.4, \n",
    "       25.3, 29.6, 27.3, 23.7, 30.3, 25.1, 28.2, 24.2, 29.3, 26.5, 27.2, 31.7, 23.8, \n",
    "       30.5]\n",
    "\n",
    "# Hours of exercise data\n",
    "hours_exercise = [3, 5, 2, 7, 4, 1, 6, 2, 5, 4, 3, 7, 1, 2, 6, 4, 5, 3, 4, 2, 5, 6, 7, 2, 1, \n",
    "                  4, 5, 2, 6, 3, 1, 7, 5, 4, 2, 3, 6, 1, 5, 4, 2, 3, 6, 7, 1, 2, 5, 4, 3, 6]\n",
    "\n",
    "# Create a list of tuples\n",
    "data = list(zip(BMI, hours_exercise))\n",
    "\n",
    "# Write the data to a CSV file\n",
    "with open('data.csv', 'w', newline='') as file:\n",
    "    writer = csv.writer(file)\n",
    "    writer.writerow([\"BMI\", \"Hours of Exercise\"])\n",
    "    for d in data:\n",
    "        writer.writerow(d)\n",
    "\n"
   ]
  },
  {
   "cell_type": "code",
   "execution_count": 20,
   "id": "a470b915-d76f-418f-8b33-27c4d4dbd57f",
   "metadata": {},
   "outputs": [
    {
     "name": "stdout",
     "output_type": "stream",
     "text": [
      "Pearson correlation coefficient: -0.406\n",
      "Pearson correlation p-value: 0.003\n",
      "Spearman correlation coefficient: -0.415\n",
      "Spearman correlation p-value: 0.003\n"
     ]
    }
   ],
   "source": [
    "import csv\n",
    "from scipy import stats\n",
    "\n",
    "# Read data from csv file\n",
    "with open('BMIdata.csv', 'r') as file:\n",
    "    reader = csv.reader(file)\n",
    "    data = list(reader)\n",
    "\n",
    "# Extract BMI and hours of exercise data\n",
    "BMI = []\n",
    "hours_exercise = []\n",
    "for row in data:\n",
    "    try:\n",
    "        BMI.append(float(row[0]))\n",
    "        hours_exercise.append(int(row[1]))\n",
    "    except ValueError:\n",
    "        continue\n",
    "\n",
    "# Check if arrays have the same length\n",
    "if len(BMI) != len(hours_exercise):\n",
    "    raise ValueError(\"Arrays must have the same length\")\n",
    "\n",
    "# Calculate Pearson correlation coefficient and p-value\n",
    "pearson_corr, pearson_pvalue = stats.pearsonr(BMI, hours_exercise)\n",
    "\n",
    "# Calculate Spearman's rank correlation coefficient and p-value\n",
    "spearman_corr, spearman_pvalue = stats.spearmanr(BMI, hours_exercise)\n",
    "\n",
    "# Print the results\n",
    "print(\"Pearson correlation coefficient: {:.3f}\".format(pearson_corr))\n",
    "print(\"Pearson correlation p-value: {:.3f}\".format(pearson_pvalue))\n",
    "print(\"Spearman correlation coefficient: {:.3f}\".format(spearman_corr))\n",
    "print(\"Spearman correlation p-value: {:.3f}\".format(spearman_pvalue))\n"
   ]
  },
  {
   "cell_type": "code",
   "execution_count": 21,
   "id": "6a5237ea-bc5d-4018-bcf4-0f48a6c8c162",
   "metadata": {},
   "outputs": [],
   "source": [
    "# Sol 4:\n",
    "import csv\n",
    "import random\n",
    "\n",
    "# Generate random data\n",
    "data = [(random.randint(1, 5), random.randint(1, 10)) for i in range(50)]\n",
    "\n",
    "# Write data to CSV file\n",
    "with open('TVHours_data.csv', mode='w', newline='') as file:\n",
    "    writer = csv.writer(file)\n",
    "    writer.writerow(['TV Hours', 'Physical Activity'])\n",
    "    writer.writerows(data)\n"
   ]
  },
  {
   "cell_type": "code",
   "execution_count": 22,
   "id": "c2512e8c-cc28-4f3d-99ec-17e4c0fc05fe",
   "metadata": {},
   "outputs": [
    {
     "name": "stdout",
     "output_type": "stream",
     "text": [
      "Pearson correlation coefficient: -0.17504699333114418\n",
      "p-value: 0.22403189166333543\n"
     ]
    }
   ],
   "source": [
    "import pandas as pd\n",
    "from scipy import stats\n",
    "\n",
    "# Load data from CSV file\n",
    "data = pd.read_csv(\"TVHours_data.csv\")\n",
    "\n",
    "# Extract TV hours and physical activity data\n",
    "tv_hours = data[\"TV Hours\"]\n",
    "physical_activity = data[\"Physical Activity\"]\n",
    "\n",
    "# Calculate Pearson correlation coefficient and p-value\n",
    "corr, p_value = stats.pearsonr(tv_hours, physical_activity)\n",
    "\n",
    "# Print results\n",
    "print(\"Pearson correlation coefficient:\", corr)\n",
    "print(\"p-value:\", p_value)\n"
   ]
  },
  {
   "cell_type": "code",
   "execution_count": 24,
   "id": "c54f253e-a467-4160-9bde-17eca8d8edab",
   "metadata": {},
   "outputs": [
    {
     "name": "stdout",
     "output_type": "stream",
     "text": [
      "Pearson correlation coefficient: 0.7587035441865058\n",
      "p-value: 0.08031134942324102\n",
      "Spearman's rank correlation coefficient: 0.8332380897952965\n",
      "p-value: 0.03939551647885117\n"
     ]
    }
   ],
   "source": [
    "# Sol 5:\n",
    "'''\n",
    "To calculate both Pearson and Spearman correlation coefficients, we first need to convert the categorical variable \"Soft drink preference\" into numerical values. \n",
    "\n",
    "We can do this using one-hot encoding, where each brand of soft drink is represented by a binary variable (0 or 1) indicating whether the participant prefers that brand or not.\n",
    "'''\n",
    "import pandas as pd\n",
    "from scipy import stats\n",
    "\n",
    "# Create DataFrame\n",
    "df = pd.DataFrame({'Age': [25, 42, 37, 19, 31, 28],\n",
    "                   'Soft drink Preference': ['Coke', 'Pepsi', 'Mountain dew',\n",
    "                                            'Coke', 'Pepsi', 'Coke']})\n",
    "\n",
    "# Convert soft drink preferences to numerical values\n",
    "drinks = df['Soft drink Preference'].unique()\n",
    "mapping = {drink: i for i, drink in enumerate(drinks)}\n",
    "df['Preference Number'] = df['Soft drink Preference'].replace(mapping)\n",
    "\n",
    "# Calculate Pearson correlation coefficient and p-value\n",
    "corr, p_value = stats.pearsonr(df['Age'], df['Preference Number'])\n",
    "print('Pearson correlation coefficient:', corr)\n",
    "print('p-value:', p_value)\n",
    "\n",
    "# Calculate Spearman's rank correlation coefficient and p-value\n",
    "spearman_corr, spearman_p_value = stats.spearmanr(df['Age'], df['Preference Number'])\n",
    "print(\"Spearman's rank correlation coefficient:\", spearman_corr)\n",
    "print('p-value:', spearman_p_value)\n"
   ]
  },
  {
   "cell_type": "code",
   "execution_count": 25,
   "id": "7393123e-ce40-45b0-8902-a6b78a3b7ad6",
   "metadata": {},
   "outputs": [],
   "source": [
    "# Sol 6:\n",
    "import csv\n",
    "\n",
    "# Sample data\n",
    "sales_calls = [10, 15, 12, 8, 11, 13, 17, 14, 9, 16, 11, 13, 12, 10, 14, 18, 11, 13, 15, 12, 16, 13, 9, 12, 15, 14, 11, 10, 17, 14]\n",
    "sales_made = [2, 3, 4, 1, 3, 3, 5, 4, 2, 4, 3, 3, 2, 2, 4, 5, 3, 2, 4, 2, 5, 4, 1, 3, 5, 4, 3, 2, 5, 4]\n",
    "\n",
    "# Write data to CSV file\n",
    "with open('company_sales.csv', mode='w', newline='') as file:\n",
    "    writer = csv.writer(file)\n",
    "    writer.writerow(['Sales Calls', 'Sales Made'])\n",
    "    for i in range(len(sales_calls)):\n",
    "        writer.writerow([sales_calls[i], sales_made[i]])\n"
   ]
  },
  {
   "cell_type": "code",
   "execution_count": 27,
   "id": "f68688fb-75b7-42a9-86fe-85bcd62c59f1",
   "metadata": {},
   "outputs": [
    {
     "name": "stdout",
     "output_type": "stream",
     "text": [
      "Pearson correlation coefficient: 0.8721857593881509\n",
      "p-value: 3.4231169065409406e-10\n"
     ]
    }
   ],
   "source": [
    "import pandas as pd\n",
    "from scipy import stats\n",
    "\n",
    "# Read the data from a CSV file\n",
    "data = pd.read_csv('company_sales.csv')\n",
    "\n",
    "# Extract sales calls and sales data\n",
    "sales_calls = data['Sales Calls']\n",
    "sales_made = data['Sales Made']\n",
    "\n",
    "# Calculate Pearson correlation coefficient and p-value\n",
    "corr, p_value = stats.pearsonr(sales_calls, sales_made)\n",
    "\n",
    "print(\"Pearson correlation coefficient:\", corr)\n",
    "print(\"p-value:\", p_value)\n"
   ]
  },
  {
   "cell_type": "code",
   "execution_count": null,
   "id": "01a5ead2-f27d-4adb-a879-476474c5b30b",
   "metadata": {},
   "outputs": [],
   "source": []
  }
 ],
 "metadata": {
  "kernelspec": {
   "display_name": "Python 3 (ipykernel)",
   "language": "python",
   "name": "python3"
  },
  "language_info": {
   "codemirror_mode": {
    "name": "ipython",
    "version": 3
   },
   "file_extension": ".py",
   "mimetype": "text/x-python",
   "name": "python",
   "nbconvert_exporter": "python",
   "pygments_lexer": "ipython3",
   "version": "3.10.8"
  }
 },
 "nbformat": 4,
 "nbformat_minor": 5
}
