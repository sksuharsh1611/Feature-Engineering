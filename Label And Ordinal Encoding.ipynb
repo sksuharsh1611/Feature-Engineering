{
 "cells": [
  {
   "cell_type": "markdown",
   "id": "cac7f35a-3a5d-481f-9511-60d0ccebe26b",
   "metadata": {},
   "source": [
    "# Label And Ordinal Encoding:"
   ]
  },
  {
   "cell_type": "code",
   "execution_count": 1,
   "id": "ffed945a-ec8d-4b7b-ab89-7611d1206d0c",
   "metadata": {},
   "outputs": [],
   "source": [
    "import pandas as pd"
   ]
  },
  {
   "cell_type": "code",
   "execution_count": 2,
   "id": "01c89adc-80b7-4f61-98da-e7a670809abb",
   "metadata": {},
   "outputs": [],
   "source": [
    "from sklearn.preprocessing import LabelEncoder"
   ]
  },
  {
   "cell_type": "code",
   "execution_count": 3,
   "id": "e546492d-6c2a-486c-8d77-3c4a14f80e20",
   "metadata": {},
   "outputs": [],
   "source": [
    "df = pd.DataFrame({'color':['red','green','blue','red','green','blue','red','green','blue']})"
   ]
  },
  {
   "cell_type": "code",
   "execution_count": 4,
   "id": "cf82b726-4eda-41fb-81bd-5e1feca768b3",
   "metadata": {},
   "outputs": [
    {
     "data": {
      "text/html": [
       "<div>\n",
       "<style scoped>\n",
       "    .dataframe tbody tr th:only-of-type {\n",
       "        vertical-align: middle;\n",
       "    }\n",
       "\n",
       "    .dataframe tbody tr th {\n",
       "        vertical-align: top;\n",
       "    }\n",
       "\n",
       "    .dataframe thead th {\n",
       "        text-align: right;\n",
       "    }\n",
       "</style>\n",
       "<table border=\"1\" class=\"dataframe\">\n",
       "  <thead>\n",
       "    <tr style=\"text-align: right;\">\n",
       "      <th></th>\n",
       "      <th>color</th>\n",
       "    </tr>\n",
       "  </thead>\n",
       "  <tbody>\n",
       "    <tr>\n",
       "      <th>0</th>\n",
       "      <td>red</td>\n",
       "    </tr>\n",
       "    <tr>\n",
       "      <th>1</th>\n",
       "      <td>green</td>\n",
       "    </tr>\n",
       "    <tr>\n",
       "      <th>2</th>\n",
       "      <td>blue</td>\n",
       "    </tr>\n",
       "    <tr>\n",
       "      <th>3</th>\n",
       "      <td>red</td>\n",
       "    </tr>\n",
       "    <tr>\n",
       "      <th>4</th>\n",
       "      <td>green</td>\n",
       "    </tr>\n",
       "    <tr>\n",
       "      <th>5</th>\n",
       "      <td>blue</td>\n",
       "    </tr>\n",
       "    <tr>\n",
       "      <th>6</th>\n",
       "      <td>red</td>\n",
       "    </tr>\n",
       "    <tr>\n",
       "      <th>7</th>\n",
       "      <td>green</td>\n",
       "    </tr>\n",
       "    <tr>\n",
       "      <th>8</th>\n",
       "      <td>blue</td>\n",
       "    </tr>\n",
       "  </tbody>\n",
       "</table>\n",
       "</div>"
      ],
      "text/plain": [
       "   color\n",
       "0    red\n",
       "1  green\n",
       "2   blue\n",
       "3    red\n",
       "4  green\n",
       "5   blue\n",
       "6    red\n",
       "7  green\n",
       "8   blue"
      ]
     },
     "execution_count": 4,
     "metadata": {},
     "output_type": "execute_result"
    }
   ],
   "source": [
    "df"
   ]
  },
  {
   "cell_type": "code",
   "execution_count": 5,
   "id": "7ccfe338-f946-4ce7-9b29-c199e30bb8a7",
   "metadata": {},
   "outputs": [],
   "source": [
    "# Create an instance of Label Encoder\n",
    "encoder = LabelEncoder()"
   ]
  },
  {
   "cell_type": "code",
   "execution_count": 8,
   "id": "97d03b24-99a0-4345-8edd-27ef9056e946",
   "metadata": {},
   "outputs": [
    {
     "data": {
      "text/plain": [
       "array([2, 1, 0, 2, 1, 0, 2, 1, 0])"
      ]
     },
     "execution_count": 8,
     "metadata": {},
     "output_type": "execute_result"
    }
   ],
   "source": [
    "# Assigned Label as per alphabetical order:\n",
    "encoder.fit_transform(df['color'])"
   ]
  },
  {
   "cell_type": "markdown",
   "id": "55da13f5-5b60-42ae-9545-879577cdd57a",
   "metadata": {},
   "source": [
    "# To do rank wise encoding:\n",
    "\n",
    "# Ordinal Encoding"
   ]
  },
  {
   "cell_type": "code",
   "execution_count": 9,
   "id": "90cff202-0c55-4898-9b9f-debbe623f6d9",
   "metadata": {},
   "outputs": [],
   "source": [
    "from sklearn.preprocessing import OrdinalEncoder"
   ]
  },
  {
   "cell_type": "code",
   "execution_count": 10,
   "id": "4fdf310f-04a6-4c41-986e-985fcbbdacd0",
   "metadata": {},
   "outputs": [],
   "source": [
    "import pandas as pd\n",
    "\n",
    "# Create a sample dataframe with an ordinal variable:\n",
    "df = pd.DataFrame({'size':['small','medium','large','medium','small','large']\n",
    "                  })"
   ]
  },
  {
   "cell_type": "code",
   "execution_count": 11,
   "id": "d81667b9-2b2b-40fc-9b74-49918f79675a",
   "metadata": {},
   "outputs": [],
   "source": [
    "# Create an instance of ordinal encoder class and fit_transform:\n",
    "encoder = OrdinalEncoder(categories=[['small','medium','large']])"
   ]
  },
  {
   "cell_type": "code",
   "execution_count": 12,
   "id": "05388d64-2f94-4a0b-b89e-c9924e04cd5f",
   "metadata": {},
   "outputs": [
    {
     "data": {
      "text/plain": [
       "array([[0.],\n",
       "       [1.],\n",
       "       [2.],\n",
       "       [1.],\n",
       "       [0.],\n",
       "       [2.]])"
      ]
     },
     "execution_count": 12,
     "metadata": {},
     "output_type": "execute_result"
    }
   ],
   "source": [
    "encoder.fit_transform(df[['size']])"
   ]
  },
  {
   "cell_type": "code",
   "execution_count": null,
   "id": "0c42c7df-aeb6-4f9d-99ab-7bdb79ca2536",
   "metadata": {},
   "outputs": [],
   "source": []
  }
 ],
 "metadata": {
  "kernelspec": {
   "display_name": "Python 3 (ipykernel)",
   "language": "python",
   "name": "python3"
  },
  "language_info": {
   "codemirror_mode": {
    "name": "ipython",
    "version": 3
   },
   "file_extension": ".py",
   "mimetype": "text/x-python",
   "name": "python",
   "nbconvert_exporter": "python",
   "pygments_lexer": "ipython3",
   "version": "3.10.8"
  }
 },
 "nbformat": 4,
 "nbformat_minor": 5
}
